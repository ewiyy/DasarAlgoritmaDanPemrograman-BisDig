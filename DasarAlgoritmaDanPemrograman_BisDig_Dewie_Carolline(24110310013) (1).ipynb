{
  "nbformat": 4,
  "nbformat_minor": 0,
  "metadata": {
    "colab": {
      "provenance": []
    },
    "kernelspec": {
      "name": "python3",
      "display_name": "Python 3"
    },
    "language_info": {
      "name": "python"
    }
  },
  "cells": [
    {
      "cell_type": "code",
      "execution_count": 1,
      "metadata": {
        "colab": {
          "base_uri": "https://localhost:8080/"
        },
        "id": "LWOsLN884QYZ",
        "outputId": "42cbf720-1c8c-456e-eaa2-fe525273b547"
      },
      "outputs": [
        {
          "output_type": "stream",
          "name": "stdout",
          "text": [
            "Masukkan nilai siswa ke-1: 70\n",
            "Masukkan nilai siswa ke-2: 85\n",
            "Masukkan nilai siswa ke-3: 90\n",
            "Masukkan nilai siswa ke-4: 88\n",
            "Masukkan nilai siswa ke-5: 90\n",
            "\n",
            "===== HASIL =====\n",
            "Nilai tertinggi adalah 90.0, didapat oleh siswa ke-3.\n"
          ]
        }
      ],
      "source": [
        "# file: nilai_tertinggi.py\n",
        "nilai_siswa = []\n",
        "# Input nilai 5 siswa\n",
        "for i in range(5):\n",
        "    while True:\n",
        "        try:\n",
        "            nilai = float(input(f\"Masukkan nilai siswa ke-{i+1}: \"))\n",
        "            nilai_siswa.append(nilai)\n",
        "            break\n",
        "        except ValueError:\n",
        "            print(\"Masukkan angka yang valid.\")\n",
        "\n",
        "# Menentukan nilai tertinggi dan indeksnya\n",
        "nilai_tertinggi = max(nilai_siswa)\n",
        "siswa_tertinggi = nilai_siswa.index(nilai_tertinggi) + 1  # +1 agar sesuai urutan manusia (mulai dari 1)\n",
        "\n",
        "print(\"\\n===== HASIL =====\")\n",
        "print(f\"Nilai tertinggi adalah {nilai_tertinggi}, didapat oleh siswa ke-{siswa_tertinggi}.\")\n"
      ]
    }
  ]
}