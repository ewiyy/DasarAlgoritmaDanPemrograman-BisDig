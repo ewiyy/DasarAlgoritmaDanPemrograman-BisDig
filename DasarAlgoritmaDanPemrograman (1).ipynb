{
  "nbformat": 4,
  "nbformat_minor": 0,
  "metadata": {
    "colab": {
      "provenance": []
    },
    "kernelspec": {
      "name": "python3",
      "display_name": "Python 3"
    },
    "language_info": {
      "name": "python"
    }
  },
  "cells": [
    {
      "cell_type": "code",
      "execution_count": 1,
      "metadata": {
        "colab": {
          "base_uri": "https://localhost:8080/"
        },
        "id": "UQVUWxsB87v7",
        "outputId": "942db038-76d2-4827-d167-255e5b5e36ec"
      },
      "outputs": [
        {
          "output_type": "stream",
          "name": "stdout",
          "text": [
            "Masukkan nilai mata pelajaran 1: 80\n",
            "Masukkan nilai mata pelajaran 2: 70\n",
            "Masukkan nilai mata pelajaran 3: 75\n",
            "\n",
            "===== HASIL KELULUSAN =====\n",
            "Rata-rata nilai: 75.00\n",
            "Status: LULUS\n"
          ]
        }
      ],
      "source": [
        "# file: kelulusan.py\n",
        "# Input nilai dari 3 mata pelajaran\n",
        "nilai1 = float(input(\"Masukkan nilai mata pelajaran 1: \"))\n",
        "nilai2 = float(input(\"Masukkan nilai mata pelajaran 2: \"))\n",
        "nilai3 = float(input(\"Masukkan nilai mata pelajaran 3: \"))\n",
        "# Hitung rata-rata\n",
        "rata_rata = (nilai1 + nilai2 + nilai3) / 3\n",
        "# Tentukan status kelulusan\n",
        "if rata_rata >= 75:\n",
        "    status = \"LULUS\"\n",
        "else:\n",
        "    status = \"TIDAK LULUS\"\n",
        "# Tampilkan hasil\n",
        "print(\"\\n===== HASIL KELULUSAN =====\")\n",
        "print(f\"Rata-rata nilai: {rata_rata:.2f}\")\n",
        "print(f\"Status: {status}\")\n"
      ]
    }
  ]
}