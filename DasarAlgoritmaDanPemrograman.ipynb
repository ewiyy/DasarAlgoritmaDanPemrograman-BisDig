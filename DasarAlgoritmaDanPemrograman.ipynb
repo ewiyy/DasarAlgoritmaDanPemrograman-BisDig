{
  "nbformat": 4,
  "nbformat_minor": 0,
  "metadata": {
    "colab": {
      "provenance": []
    },
    "kernelspec": {
      "name": "python3",
      "display_name": "Python 3"
    },
    "language_info": {
      "name": "python"
    }
  },
  "cells": [
    {
      "cell_type": "code",
      "execution_count": 1,
      "metadata": {
        "id": "bFHpzC2LiyzE",
        "colab": {
          "base_uri": "https://localhost:8080/"
        },
        "outputId": "2c5d6916-4c29-49eb-dcfa-fbed1242a220"
      },
      "outputs": [
        {
          "output_type": "stream",
          "name": "stdout",
          "text": [
            "Masukkan harga barang ke-1: 15000\n",
            "Masukkan harga barang ke-2: 27500\n",
            "Masukkan harga barang ke-3: 5000\n",
            "\n",
            "===== TOTAL PEMBAYARAN =====\n",
            "Total harga dari 3 barang adalah: Rp47,500.00\n"
          ]
        }
      ],
      "source": [
        "# file: total_harga.py\n",
        "\n",
        "total_harga = 0.0\n",
        "\n",
        "# Input harga 3 barang\n",
        "for i in range(3):\n",
        "    while True:\n",
        "        try:\n",
        "            harga = float(input(f\"Masukkan harga barang ke-{i+1}: \"))\n",
        "            total_harga += harga\n",
        "            break\n",
        "        except ValueError:\n",
        "            print(\"Masukkan angka yang valid.\")\n",
        "\n",
        "print(\"\\n===== TOTAL PEMBAYARAN =====\")\n",
        "print(f\"Total harga dari 3 barang adalah: Rp{total_harga:,.2f}\")\n"
      ]
    }
  ]
}