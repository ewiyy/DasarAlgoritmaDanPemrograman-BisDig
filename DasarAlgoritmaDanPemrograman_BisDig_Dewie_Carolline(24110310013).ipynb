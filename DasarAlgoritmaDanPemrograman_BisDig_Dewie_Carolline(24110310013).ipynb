{
  "nbformat": 4,
  "nbformat_minor": 0,
  "metadata": {
    "colab": {
      "provenance": []
    },
    "kernelspec": {
      "name": "python3",
      "display_name": "Python 3"
    },
    "language_info": {
      "name": "python"
    }
  },
  "cells": [
    {
      "cell_type": "code",
      "execution_count": 1,
      "metadata": {
        "colab": {
          "base_uri": "https://localhost:8080/"
        },
        "id": "GCzzs4Mg12Ad",
        "outputId": "34ad56b8-93bf-4707-b4b4-65086ce6a94c"
      },
      "outputs": [
        {
          "output_type": "stream",
          "name": "stdout",
          "text": [
            "Masukkan angka untuk menghitung faktorial: 5\n",
            "Faktorial dari 5 adalah 120\n"
          ]
        }
      ],
      "source": [
        "# file: faktorial.py\n",
        "\n",
        "def faktorial(n):\n",
        "    if n == 0:\n",
        "        return 1\n",
        "    else:\n",
        "        return n * faktorial(n - 1)\n",
        "\n",
        "# Input dari pengguna\n",
        "try:\n",
        "    angka = int(input(\"Masukkan angka untuk menghitung faktorial: \"))\n",
        "    if angka < 0:\n",
        "        print(\"Faktorial tidak didefinisikan untuk angka negatif.\")\n",
        "    else:\n",
        "        hasil = faktorial(angka)\n",
        "        print(f\"Faktorial dari {angka} adalah {hasil}\")\n",
        "except ValueError:\n",
        "    print(\"Harap masukkan angka bulat.\")\n"
      ]
    }
  ]
}